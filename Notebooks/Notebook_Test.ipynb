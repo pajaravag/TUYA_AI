{
 "cells": [
  {
   "cell_type": "markdown",
   "metadata": {},
   "source": [
    "# Test - TUYA \n",
    "## DS AI - Pablo Andres"
   ]
  },
  {
   "cell_type": "markdown",
   "metadata": {},
   "source": [
    "### Librerías"
   ]
  },
  {
   "cell_type": "code",
   "execution_count": 29,
   "metadata": {},
   "outputs": [],
   "source": [
    "import requests\n",
    "from bs4 import BeautifulSoup\n",
    "import pandas as pd\n",
    "import json\n",
    "import os\n",
    "\n",
    "from datetime import datetime\n",
    "\n",
    "from dotenv import load_dotenv\n",
    "\n",
    "from transformers import AutoTokenizer, AutoModelForCausalLM, pipeline\n",
    "from langchain.llms import HuggingFacePipeline\n",
    "import warnings\n",
    "\n",
    "warnings.filterwarnings(\"ignore\")"
   ]
  },
  {
   "cell_type": "markdown",
   "metadata": {},
   "source": [
    "## Environment Variables"
   ]
  },
  {
   "cell_type": "code",
   "execution_count": 2,
   "metadata": {},
   "outputs": [
    {
     "data": {
      "text/plain": [
       "True"
      ]
     },
     "execution_count": 2,
     "metadata": {},
     "output_type": "execute_result"
    }
   ],
   "source": [
    "load_dotenv('../.env')"
   ]
  },
  {
   "cell_type": "code",
   "execution_count": 3,
   "metadata": {},
   "outputs": [],
   "source": [
    "MODEL_ID = os.getenv('MODEL_ID')\n",
    "\n",
    "cd       = os.getcwd()"
   ]
  },
  {
   "cell_type": "markdown",
   "metadata": {},
   "source": [
    "## Questions\n",
    "\n",
    "### Question 1:\n",
    "    - ¿Cuáles son los nombres de las tarjetas que tiene disponibles Tuya S.A?\n",
    "\n",
    "### Question 2:\n",
    "    - ¿ Cuáles son los valores la tasa de interés y póliza del producto credicompras?"
   ]
  },
  {
   "cell_type": "markdown",
   "metadata": {},
   "source": [
    "## Code"
   ]
  },
  {
   "cell_type": "markdown",
   "metadata": {},
   "source": [
    "## Web Scrapping"
   ]
  },
  {
   "cell_type": "code",
   "execution_count": 4,
   "metadata": {},
   "outputs": [],
   "source": [
    "def scrape_credit_cards(url, headers):\n",
    "    response = requests.get(url, headers = headers)\n",
    "    if response.status_code == 200:\n",
    "        soup = BeautifulSoup(response.text, \"html.parser\")\n",
    "        card_elements = soup.find_all(\"h2\")\n",
    "        credit_cards = [element.get_text(strip=True) for element in card_elements if \"Tarjeta\" in element.get_text(strip=True) and \\\n",
    "                        \"crédito\" not in element.get_text(strip=True).lower()]\n",
    "        return sorted(set(credit_cards))\n",
    "    else:\n",
    "        print(f\"Failed to retrieve the page. Status code: {response.status_code}\")\n",
    "        return []\n",
    "    \n",
    "\n",
    "def scrape_credicompras(url, headers):\n",
    "    response = requests.get(url, headers = headers)\n",
    "    if response.status_code == 200:\n",
    "        soup = BeautifulSoup(response.text, \"html.parser\")\n",
    "        interest_rates = [section.get_text(strip = True) for section in soup.find_all(\"p\") if \"Tasa Efectiva Anual\" in section.get_text(strip=True)]\n",
    "        policy_details = [section.get_text(strip = True) for section in soup.find_all(\"p\") if \"Póliza colectiva\" in section.get_text(strip=True) or \"seguro deudores\" in section.get_text(strip=True)]\n",
    "        structured_data = {\n",
    "            \"Credicompras\": {\n",
    "                \"Interest Rates\": list(set(interest_rates)),\n",
    "                \"Insurance Policy\": list(set(policy_details))\n",
    "            }\n",
    "        }\n",
    "        return structured_data\n",
    "    else:\n",
    "        print(f\"❌ Failed to retrieve the page. Status code: {response.status_code}\")\n",
    "        return {}"
   ]
  },
  {
   "cell_type": "markdown",
   "metadata": {},
   "source": [
    "### Saving Scraping Models"
   ]
  },
  {
   "cell_type": "code",
   "execution_count": 31,
   "metadata": {},
   "outputs": [],
   "source": [
    "def save_output(data, filename, location = 'Scraped_Data', extension = 'json'):\n",
    "    \n",
    "    current_time = datetime.now().strftime(\"%Y%m%d_%H%M%S\")\n",
    "    filename_with_time = f\"{filename}_{current_time}\"\n",
    "\n",
    "    if extension == 'json':\n",
    "        with open(os.path.join(cd, f'../Data/{location}', f'{filename_with_time}.{extension}'), 'w', encoding='utf-8') as file:\n",
    "            json.dump(data, file, indent=4, ensure_ascii=False)\n",
    "        print(f\"✅ Data saved in '{filename_with_time}.json'.\")\n",
    "\n",
    "    elif extension == 'txt':\n",
    "        with open(os.path.join(cd, f'../Data/{location}', f'{filename_with_time}.{extension}'), 'w', encoding='utf-8') as file:\n",
    "            if isinstance(data, dict):\n",
    "                for key, value in data.items():\n",
    "                    file.write(f\"{key}: {value}\\n\")\n",
    "            elif isinstance(data, list):\n",
    "                for item in data:\n",
    "                    file.write(f\"{item}\\n\")\n",
    "            else:\n",
    "                file.write(str(data))\n",
    "        print(f\"✅ Data saved in '{filename_with_time}.txt'.\")"
   ]
  },
  {
   "cell_type": "markdown",
   "metadata": {},
   "source": [
    "### Set URL's to Scrape"
   ]
  },
  {
   "cell_type": "code",
   "execution_count": 6,
   "metadata": {},
   "outputs": [],
   "source": [
    "url_scrape_credit_cards = \"https://www.tuya.com.co/tarjetas-de-credito\"\n",
    "url_scrape_credicompras = \"https://www.tuya.com.co/credicompras\""
   ]
  },
  {
   "cell_type": "markdown",
   "metadata": {},
   "source": [
    "### Mining Data from WebSite"
   ]
  },
  {
   "cell_type": "code",
   "execution_count": 7,
   "metadata": {},
   "outputs": [],
   "source": [
    "scrape_credit_cards_data = scrape_credit_cards(url_scrape_credit_cards, headers = {'User-Agent': 'Mozilla/5.0'})\n",
    "scrape_credicompras_data = scrape_credicompras(url_scrape_credicompras, headers = {'User-Agent': 'Mozilla/5.0'})"
   ]
  },
  {
   "cell_type": "code",
   "execution_count": 21,
   "metadata": {},
   "outputs": [
    {
     "name": "stdout",
     "output_type": "stream",
     "text": [
      "✅ Data saved in 'credit_cards.json'.\n",
      "✅ Data saved in 'credicompras.json'.\n"
     ]
    }
   ],
   "source": [
    "save_output(scrape_credit_cards_data, \"credit_cards\")\n",
    "save_output(scrape_credicompras_data, \"credicompras\")"
   ]
  },
  {
   "cell_type": "markdown",
   "metadata": {},
   "source": [
    "## LLM\n",
    "\n",
    "### Setting Model and Tokenizer "
   ]
  },
  {
   "cell_type": "code",
   "execution_count": 9,
   "metadata": {},
   "outputs": [
    {
     "name": "stderr",
     "output_type": "stream",
     "text": [
      "Device set to use cpu\n"
     ]
    }
   ],
   "source": [
    "model_id    = MODEL_ID\n",
    "tokenizer   = AutoTokenizer.from_pretrained(model_id)\n",
    "model       = AutoModelForCausalLM.from_pretrained(model_id)\n",
    "pipeline    = pipeline(\"text-generation\", model = model, tokenizer = tokenizer)\n",
    "local_llm   = HuggingFacePipeline(pipeline = pipeline)"
   ]
  },
  {
   "cell_type": "markdown",
   "metadata": {},
   "source": [
    "### Upload Data to Use"
   ]
  },
  {
   "cell_type": "code",
   "execution_count": 11,
   "metadata": {},
   "outputs": [],
   "source": [
    "def upload_contexts(filename):\n",
    "    with open(os.path.join(cd, '../Data/Scraped_Data', f'{filename}.json'), 'r', encoding = 'utf-8') as file:\n",
    "        data = json.load(file)\n",
    "    return data"
   ]
  },
  {
   "cell_type": "code",
   "execution_count": 12,
   "metadata": {},
   "outputs": [],
   "source": [
    "context_credit_cards = upload_contexts(\"credit_cards\")\n",
    "context_credicompras = upload_contexts(\"credicompras\")"
   ]
  },
  {
   "cell_type": "code",
   "execution_count": 22,
   "metadata": {},
   "outputs": [],
   "source": [
    "def ask_llama(question, context):\n",
    "    \"\"\"Query the Llama 3.2 model using the extracted knowledge.\"\"\"\n",
    "    prompt = f\"Basado en la siguiente información:\\n\\n{context}\\n\\nResponde la siguiente pregunta de forma clara y concisa:\\n\\n{question}\"\n",
    "\n",
    "    response = local_llm(prompt)\n",
    "    \n",
    "    return response"
   ]
  },
  {
   "cell_type": "code",
   "execution_count": null,
   "metadata": {},
   "outputs": [],
   "source": [
    "question_1 = \"¿Cuáles son los nombres de las tarjetas que tiene disponibles Tuya S.A.?\"\n",
    "question_2 = \"¿Cuáles son los valores de la tasa de interés y póliza del producto Credicompras?\""
   ]
  },
  {
   "cell_type": "markdown",
   "metadata": {},
   "source": [
    "### Getting Answers"
   ]
  },
  {
   "cell_type": "code",
   "execution_count": null,
   "metadata": {},
   "outputs": [],
   "source": [
    "answer_1 = ask_llama(question_1, context_credit_cards)\n",
    "answer_2 = ask_llama(question_2, context_credicompras)"
   ]
  },
  {
   "cell_type": "markdown",
   "metadata": {},
   "source": [
    "### Saving Answers"
   ]
  },
  {
   "cell_type": "code",
   "execution_count": 32,
   "metadata": {},
   "outputs": [
    {
     "name": "stdout",
     "output_type": "stream",
     "text": [
      "✅ Data saved in 'answer_1_20250302_224942.txt'.\n",
      "✅ Data saved in 'answer_2_20250302_224943.txt'.\n"
     ]
    }
   ],
   "source": [
    "save_output(answer_1, 'answer_1', 'Output', 'txt')\n",
    "save_output(answer_2, 'answer_2', 'Output', 'txt')"
   ]
  }
 ],
 "metadata": {
  "kernelspec": {
   "display_name": "TUYA_AI",
   "language": "python",
   "name": "python3"
  },
  "language_info": {
   "codemirror_mode": {
    "name": "ipython",
    "version": 3
   },
   "file_extension": ".py",
   "mimetype": "text/x-python",
   "name": "python",
   "nbconvert_exporter": "python",
   "pygments_lexer": "ipython3",
   "version": "3.11.6"
  }
 },
 "nbformat": 4,
 "nbformat_minor": 2
}
